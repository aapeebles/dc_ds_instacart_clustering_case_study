{
 "cells": [
  {
   "cell_type": "markdown",
   "metadata": {},
   "source": [
    "## Case Study\n",
    "\n",
    "**Scenario**: Instacart has provided user purchase data and wants to create user behavior profilesv to target their marketing.\n",
    "\n",
    "**Example**: the power user, or organic andy - and be able to describe their behavior and how it differs from other groups.\n",
    "\n",
    "**Deliverable**: \n",
    "- A paragraph with a nice looking table describing the different user groups in the dataset.\n",
    "- The table will be produced through the clustering algorithms you learned today.\n",
    "- You will cluster on `user_summaries`\n",
    "\n",
    "**Data**: Download the zip file from [this link](https://drive.google.com/file/d/1_nl_wVnYYNlYe1cWlVU3QAWAWyPxS4S8/view?usp=sharing), unzip the folder, and save all the contents in a file named \"data\"\n",
    "\n",
    "**Tasks**:\n",
    "1. Create the following aggregate variables to add to your user summaries:\n",
    "\n",
    "- average basket size\n",
    "- percent of orders that contain organic items\n",
    "- average percent of basket that is organic\n",
    "\n",
    "2. create at least 3 other new aggregate variables (unique from other people in the group) from the `full_order_data` to add to `user_summaries`\n",
    "\n",
    "3. Run both hierarchical and kmeans clustering to find the optimum # of groups\n",
    "\n",
    "4. Write a paragraph to describe those cluster attributes\n",
    "\n",
    "5. Make sure the table looks \"client ready\""
   ]
  },
  {
   "cell_type": "code",
   "execution_count": 9,
   "metadata": {},
   "outputs": [
    {
     "name": "stdout",
     "output_type": "stream",
     "text": [
      "\u001b[31maisles.csv.zip\u001b[m\u001b[m                \u001b[31morders.csv.zip\u001b[m\u001b[m\n",
      "\u001b[31mdepartments.csv.zip\u001b[m\u001b[m           \u001b[31mproducts.csv.zip\u001b[m\u001b[m\n",
      "\u001b[31morder_products__prior.csv.zip\u001b[m\u001b[m \u001b[31msample_submission.csv.zip\u001b[m\u001b[m\n",
      "\u001b[31morder_products__train.csv.zip\u001b[m\u001b[m\n"
     ]
    }
   ],
   "source": [
    "!ls ./data"
   ]
  },
  {
   "cell_type": "code",
   "execution_count": 1,
   "metadata": {},
   "outputs": [],
   "source": [
    "# Import necessary data manipulation packages\n",
    "\n",
    "import pandas as pd\n",
    "pd.options.display.max_columns = 999\n",
    "\n",
    "import numpy as np\n",
    "import zipfile\n",
    "\n",
    "import matplotlib.pyplot as plt\n",
    "%matplotlib inline"
   ]
  },
  {
   "cell_type": "markdown",
   "metadata": {},
   "source": [
    "### Orders"
   ]
  },
  {
   "cell_type": "code",
   "execution_count": 2,
   "metadata": {},
   "outputs": [],
   "source": [
    "zf = zipfile.ZipFile('./data/orders.csv.zip')\n",
    "orders = pd.read_csv(zf.open(zf.namelist()[0]))"
   ]
  },
  {
   "cell_type": "code",
   "execution_count": 3,
   "metadata": {},
   "outputs": [],
   "source": [
    "# Create aggregates of order count and days between orders\n",
    "\n",
    "max_orders = orders.groupby('user_id')['order_number'].max()\n",
    "avg_days = orders.groupby('user_id')['days_since_prior_order'].mean()\n",
    "max_days = orders.groupby('user_id')['days_since_prior_order'].max()\n",
    "min_days = orders.groupby('user_id')['days_since_prior_order'].min()"
   ]
  },
  {
   "cell_type": "code",
   "execution_count": 4,
   "metadata": {},
   "outputs": [],
   "source": [
    "# create new user_summary dataset\n",
    "user_summaries = pd.DataFrame([avg_days,max_days, min_days, max_orders]).T\n",
    "\n",
    "names = ['av_days_btw_orders', 'max_days_btw_orders', 'min_days_btw_orders', 'total_orders']\n",
    "user_summaries.columns = names"
   ]
  },
  {
   "cell_type": "markdown",
   "metadata": {},
   "source": [
    "### Products"
   ]
  },
  {
   "cell_type": "code",
   "execution_count": 5,
   "metadata": {},
   "outputs": [],
   "source": [
    "zf = zipfile.ZipFile('./data/products.csv.zip')\n",
    "products = pd.read_csv(zf.open(zf.namelist()[0]))"
   ]
  },
  {
   "cell_type": "code",
   "execution_count": 6,
   "metadata": {},
   "outputs": [],
   "source": [
    "# create organic tag for each product\n",
    "products['organic'] = np.where(products.product_name.str.contains(\"Organic\"),\n",
    "                             1, 0)\n",
    "# remove Organic from product names\n",
    "products.product_name=products.product_name.str.replace(\"Organic\",\"\")"
   ]
  },
  {
   "cell_type": "markdown",
   "metadata": {},
   "source": [
    "### Department"
   ]
  },
  {
   "cell_type": "code",
   "execution_count": 7,
   "metadata": {},
   "outputs": [],
   "source": [
    "zf = zipfile.ZipFile('./data/departments.csv.zip')\n",
    "department = pd.read_csv(zf.open(zf.namelist()[0]))"
   ]
  },
  {
   "cell_type": "markdown",
   "metadata": {},
   "source": [
    "### Order Products\n"
   ]
  },
  {
   "cell_type": "code",
   "execution_count": 8,
   "metadata": {},
   "outputs": [],
   "source": [
    "zf = zipfile.ZipFile('./data/order_products__prior.csv.zip')\n",
    "prior_orders = pd.read_csv(zf.open(zf.namelist()[0]))\n"
   ]
  },
  {
   "cell_type": "code",
   "execution_count": 9,
   "metadata": {},
   "outputs": [],
   "source": [
    "zf = zipfile.ZipFile('./data/order_products__train.csv.zip')\n",
    "order_prods = pd.read_csv(zf.open(zf.namelist()[0]))"
   ]
  },
  {
   "cell_type": "code",
   "execution_count": 10,
   "metadata": {},
   "outputs": [],
   "source": [
    "order_prods = prior_orders.append(order_prods)\n",
    "order_prods.sort_values('order_id',inplace=True)"
   ]
  },
  {
   "cell_type": "markdown",
   "metadata": {},
   "source": [
    "## Create unified table"
   ]
  },
  {
   "cell_type": "code",
   "execution_count": 11,
   "metadata": {},
   "outputs": [],
   "source": [
    "order_user_key = orders[[\"order_id\", \"user_id\"]]\n",
    "\n",
    "# merge user_id on to order table\n",
    "full_table = order_prods.merge(order_user_key, on = 'order_id', how ='left') \n",
    "\n",
    "# merge product info on to table\n",
    "full_table_copy = full_table.merge(products, on=\"product_id\", how='left')\n",
    "\n",
    "# merge department info on to table\n",
    "full_order_data = full_table_copy.merge(department, on=\"department_id\", how='left')"
   ]
  },
  {
   "cell_type": "markdown",
   "metadata": {},
   "source": [
    "## What is the average basket size by user?\n",
    "\n",
    "### Get Basket Size "
   ]
  },
  {
   "cell_type": "code",
   "execution_count": 12,
   "metadata": {},
   "outputs": [],
   "source": [
    "# make a groupby with order id on full_order_data to get count of products in each order\n",
    "order_size = full_order_data.groupby([\"order_id\"])[\"order_id\"].count()\n",
    "\n",
    "# make it a nicer dataframe\n",
    "order_size_df = order_size.to_frame()\n",
    "order_size_df.columns = ['basket_size']\n",
    "order_size_df.reset_index(inplace=True)"
   ]
  },
  {
   "cell_type": "markdown",
   "metadata": {},
   "source": [
    "### Get average basket count"
   ]
  },
  {
   "cell_type": "code",
   "execution_count": 13,
   "metadata": {},
   "outputs": [],
   "source": [
    "# merge on order_id\n",
    "get_avg_basket = order_user_key.merge(order_size_df, on=\"order_id\", how = 'inner')\n",
    "\n",
    "# get groupby on user_id\n",
    "avg_basket_user = get_avg_basket.groupby('user_id')['basket_size'].mean()\n",
    "\n",
    "# Make it a nicer data frame\n",
    "avg_basket_user_df = avg_basket_user.to_frame()\n",
    "avg_basket_user_df.reset_index(inplace = True)\n",
    "avg_basket_user_df.columns = [\"user_id\", \"average_basket_size\"]"
   ]
  },
  {
   "cell_type": "markdown",
   "metadata": {},
   "source": [
    "## Get count of organic items by basket\n",
    "\n",
    "There was more than one way to do this, this is only the path *I* chose"
   ]
  },
  {
   "cell_type": "markdown",
   "metadata": {},
   "source": [
    "### Get count of organic items by basket"
   ]
  },
  {
   "cell_type": "code",
   "execution_count": 14,
   "metadata": {},
   "outputs": [
    {
     "data": {
      "text/html": [
       "<div>\n",
       "<style scoped>\n",
       "    .dataframe tbody tr th:only-of-type {\n",
       "        vertical-align: middle;\n",
       "    }\n",
       "\n",
       "    .dataframe tbody tr th {\n",
       "        vertical-align: top;\n",
       "    }\n",
       "\n",
       "    .dataframe thead th {\n",
       "        text-align: right;\n",
       "    }\n",
       "</style>\n",
       "<table border=\"1\" class=\"dataframe\">\n",
       "  <thead>\n",
       "    <tr style=\"text-align: right;\">\n",
       "      <th></th>\n",
       "      <th>order_id</th>\n",
       "      <th>product_id</th>\n",
       "      <th>add_to_cart_order</th>\n",
       "      <th>reordered</th>\n",
       "      <th>user_id</th>\n",
       "      <th>product_name</th>\n",
       "      <th>aisle_id</th>\n",
       "      <th>department_id</th>\n",
       "      <th>organic</th>\n",
       "      <th>department</th>\n",
       "    </tr>\n",
       "  </thead>\n",
       "  <tbody>\n",
       "    <tr>\n",
       "      <td>0</td>\n",
       "      <td>1</td>\n",
       "      <td>49302</td>\n",
       "      <td>1</td>\n",
       "      <td>1</td>\n",
       "      <td>112108</td>\n",
       "      <td>Bulgarian Yogurt</td>\n",
       "      <td>120</td>\n",
       "      <td>16</td>\n",
       "      <td>0</td>\n",
       "      <td>dairy eggs</td>\n",
       "    </tr>\n",
       "    <tr>\n",
       "      <td>1</td>\n",
       "      <td>1</td>\n",
       "      <td>10246</td>\n",
       "      <td>3</td>\n",
       "      <td>0</td>\n",
       "      <td>112108</td>\n",
       "      <td>Celery Hearts</td>\n",
       "      <td>83</td>\n",
       "      <td>4</td>\n",
       "      <td>1</td>\n",
       "      <td>produce</td>\n",
       "    </tr>\n",
       "    <tr>\n",
       "      <td>2</td>\n",
       "      <td>1</td>\n",
       "      <td>49683</td>\n",
       "      <td>4</td>\n",
       "      <td>0</td>\n",
       "      <td>112108</td>\n",
       "      <td>Cucumber Kirby</td>\n",
       "      <td>83</td>\n",
       "      <td>4</td>\n",
       "      <td>0</td>\n",
       "      <td>produce</td>\n",
       "    </tr>\n",
       "    <tr>\n",
       "      <td>3</td>\n",
       "      <td>1</td>\n",
       "      <td>43633</td>\n",
       "      <td>5</td>\n",
       "      <td>1</td>\n",
       "      <td>112108</td>\n",
       "      <td>Lightly Smoked Sardines in Olive Oil</td>\n",
       "      <td>95</td>\n",
       "      <td>15</td>\n",
       "      <td>0</td>\n",
       "      <td>canned goods</td>\n",
       "    </tr>\n",
       "    <tr>\n",
       "      <td>4</td>\n",
       "      <td>1</td>\n",
       "      <td>13176</td>\n",
       "      <td>6</td>\n",
       "      <td>0</td>\n",
       "      <td>112108</td>\n",
       "      <td>Bag of  Bananas</td>\n",
       "      <td>24</td>\n",
       "      <td>4</td>\n",
       "      <td>1</td>\n",
       "      <td>produce</td>\n",
       "    </tr>\n",
       "  </tbody>\n",
       "</table>\n",
       "</div>"
      ],
      "text/plain": [
       "   order_id  product_id  add_to_cart_order  reordered  user_id  \\\n",
       "0         1       49302                  1          1   112108   \n",
       "1         1       10246                  3          0   112108   \n",
       "2         1       49683                  4          0   112108   \n",
       "3         1       43633                  5          1   112108   \n",
       "4         1       13176                  6          0   112108   \n",
       "\n",
       "                           product_name  aisle_id  department_id  organic  \\\n",
       "0                      Bulgarian Yogurt       120             16        0   \n",
       "1                         Celery Hearts        83              4        1   \n",
       "2                        Cucumber Kirby        83              4        0   \n",
       "3  Lightly Smoked Sardines in Olive Oil        95             15        0   \n",
       "4                       Bag of  Bananas        24              4        1   \n",
       "\n",
       "     department  \n",
       "0    dairy eggs  \n",
       "1       produce  \n",
       "2       produce  \n",
       "3  canned goods  \n",
       "4       produce  "
      ]
     },
     "execution_count": 14,
     "metadata": {},
     "output_type": "execute_result"
    }
   ],
   "source": [
    "full_order_data.head()"
   ]
  },
  {
   "cell_type": "code",
   "execution_count": 15,
   "metadata": {},
   "outputs": [],
   "source": [
    "organic_orders = full_order_data.groupby([\"order_id\"])[\"organic\"].sum()\n",
    "\n",
    "# make it a nicer dataframe\n",
    "organic_orders_df = organic_orders.to_frame()\n",
    "organic_orders_df.columns = ['organic_items']\n",
    "organic_orders_df.reset_index(inplace=True)"
   ]
  },
  {
   "cell_type": "code",
   "execution_count": 16,
   "metadata": {},
   "outputs": [],
   "source": [
    "get_organic_product_counts = order_user_key.merge(organic_orders_df, on=\"order_id\", how = 'left')"
   ]
  },
  {
   "cell_type": "code",
   "execution_count": 17,
   "metadata": {},
   "outputs": [],
   "source": [
    "# Prepare for aggregating\n",
    "\n",
    "# merge count of organic items onto count of items in basket at all\n",
    "organic_product_dems = order_size_df.merge(get_organic_product_counts, on = \"order_id\", how ='left')\n",
    "# sort values of DF by user_id and order_id for readability\n",
    "organic_product_dems.sort_values(by=['user_id',\"order_id\"], inplace=True)\n",
    "\n",
    "# create new variable \"percent\" of basket that is organic\n",
    "organic_product_dems[\"percent\"] = organic_product_dems.organic_items/organic_product_dems.basket_size"
   ]
  },
  {
   "cell_type": "code",
   "execution_count": 18,
   "metadata": {},
   "outputs": [],
   "source": [
    "# get groupbys by user of mean, min, and max percent organic in their basket history\n",
    "# then change the name each series appropriately so it is the column name when joined together in a dataframe\n",
    "\n",
    "mean_org= organic_product_dems.groupby('user_id')['percent'].mean()\n",
    "mean_org.name = \"org_mean_percent\"\n",
    "\n",
    "min_org = organic_product_dems.groupby('user_id')['percent'].min()\n",
    "min_org.name = \"org_min_percent\"\n",
    "\n",
    "max_org = organic_product_dems.groupby('user_id')['percent'].max()\n",
    "max_org.name = \"org_max_percent\""
   ]
  },
  {
   "cell_type": "code",
   "execution_count": 19,
   "metadata": {},
   "outputs": [],
   "source": [
    "org_desc_dict = {mean_org.name:mean_org, min_org.name:min_org, max_org.name:max_org}\n",
    "org_desc_df = pd.DataFrame(org_desc_dict)\n",
    "org_desc_df.reset_index(inplace=True)"
   ]
  },
  {
   "cell_type": "markdown",
   "metadata": {},
   "source": [
    "### Get number of orders WITH any organic items in the basket"
   ]
  },
  {
   "cell_type": "code",
   "execution_count": 20,
   "metadata": {},
   "outputs": [],
   "source": [
    "get_organic_order_counts_series = get_organic_product_counts.loc[get_organic_product_counts.organic_items > 0].groupby('user_id')['order_id'].count()"
   ]
  },
  {
   "cell_type": "code",
   "execution_count": 21,
   "metadata": {},
   "outputs": [
    {
     "data": {
      "text/plain": [
       "user_id\n",
       "1         11\n",
       "2         15\n",
       "3         11\n",
       "4          1\n",
       "5          5\n",
       "          ..\n",
       "206205     4\n",
       "206206    40\n",
       "206207    16\n",
       "206208    49\n",
       "206209     9\n",
       "Name: order_id, Length: 190566, dtype: int64"
      ]
     },
     "execution_count": 21,
     "metadata": {},
     "output_type": "execute_result"
    }
   ],
   "source": [
    "get_organic_order_counts_series"
   ]
  },
  {
   "cell_type": "code",
   "execution_count": 22,
   "metadata": {},
   "outputs": [],
   "source": [
    "get_organic_order_counts_df = get_organic_order_counts_series.to_frame()"
   ]
  },
  {
   "cell_type": "code",
   "execution_count": 23,
   "metadata": {},
   "outputs": [],
   "source": [
    "get_organic_order_counts_df.reset_index(inplace = True)"
   ]
  },
  {
   "cell_type": "code",
   "execution_count": 24,
   "metadata": {},
   "outputs": [],
   "source": [
    "get_organic_order_counts_df.columns = ['user_id', \"organic_basket_count\"]"
   ]
  },
  {
   "cell_type": "code",
   "execution_count": 25,
   "metadata": {},
   "outputs": [
    {
     "data": {
      "text/plain": [
       "(190566, 2)"
      ]
     },
     "execution_count": 25,
     "metadata": {},
     "output_type": "execute_result"
    }
   ],
   "source": [
    "get_organic_order_counts_df.shape"
   ]
  },
  {
   "cell_type": "markdown",
   "metadata": {},
   "source": [
    "## Enhance User Summaries table"
   ]
  },
  {
   "cell_type": "code",
   "execution_count": 26,
   "metadata": {},
   "outputs": [],
   "source": [
    "user_summaries.reset_index(inplace=True)"
   ]
  },
  {
   "cell_type": "code",
   "execution_count": 27,
   "metadata": {},
   "outputs": [
    {
     "data": {
      "text/plain": [
       "(206209, 5)"
      ]
     },
     "execution_count": 27,
     "metadata": {},
     "output_type": "execute_result"
    }
   ],
   "source": [
    "user_summaries.shape"
   ]
  },
  {
   "cell_type": "code",
   "execution_count": 28,
   "metadata": {},
   "outputs": [],
   "source": [
    "user_summaries=user_summaries.merge(avg_basket_user_df, on = \"user_id\", how =\"left\")"
   ]
  },
  {
   "cell_type": "code",
   "execution_count": 90,
   "metadata": {},
   "outputs": [
    {
     "data": {
      "text/html": [
       "<div>\n",
       "<style scoped>\n",
       "    .dataframe tbody tr th:only-of-type {\n",
       "        vertical-align: middle;\n",
       "    }\n",
       "\n",
       "    .dataframe tbody tr th {\n",
       "        vertical-align: top;\n",
       "    }\n",
       "\n",
       "    .dataframe thead th {\n",
       "        text-align: right;\n",
       "    }\n",
       "</style>\n",
       "<table border=\"1\" class=\"dataframe\">\n",
       "  <thead>\n",
       "    <tr style=\"text-align: right;\">\n",
       "      <th></th>\n",
       "      <th>user_id</th>\n",
       "      <th>av_days_btw_orders</th>\n",
       "      <th>max_days_btw_orders</th>\n",
       "      <th>min_days_btw_orders</th>\n",
       "      <th>total_orders</th>\n",
       "      <th>average_basket_size</th>\n",
       "      <th>organic_basket_count</th>\n",
       "    </tr>\n",
       "  </thead>\n",
       "  <tbody>\n",
       "    <tr>\n",
       "      <td>0</td>\n",
       "      <td>1</td>\n",
       "      <td>19.000000</td>\n",
       "      <td>30.0</td>\n",
       "      <td>0.0</td>\n",
       "      <td>11.0</td>\n",
       "      <td>11.727273</td>\n",
       "      <td>11.0</td>\n",
       "    </tr>\n",
       "    <tr>\n",
       "      <td>1</td>\n",
       "      <td>2</td>\n",
       "      <td>16.285714</td>\n",
       "      <td>30.0</td>\n",
       "      <td>3.0</td>\n",
       "      <td>15.0</td>\n",
       "      <td>28.066667</td>\n",
       "      <td>15.0</td>\n",
       "    </tr>\n",
       "    <tr>\n",
       "      <td>2</td>\n",
       "      <td>3</td>\n",
       "      <td>12.000000</td>\n",
       "      <td>21.0</td>\n",
       "      <td>7.0</td>\n",
       "      <td>13.0</td>\n",
       "      <td>14.666667</td>\n",
       "      <td>11.0</td>\n",
       "    </tr>\n",
       "    <tr>\n",
       "      <td>3</td>\n",
       "      <td>4</td>\n",
       "      <td>17.000000</td>\n",
       "      <td>30.0</td>\n",
       "      <td>0.0</td>\n",
       "      <td>6.0</td>\n",
       "      <td>7.200000</td>\n",
       "      <td>1.0</td>\n",
       "    </tr>\n",
       "    <tr>\n",
       "      <td>4</td>\n",
       "      <td>5</td>\n",
       "      <td>11.500000</td>\n",
       "      <td>19.0</td>\n",
       "      <td>6.0</td>\n",
       "      <td>5.0</td>\n",
       "      <td>16.600000</td>\n",
       "      <td>5.0</td>\n",
       "    </tr>\n",
       "    <tr>\n",
       "      <td>...</td>\n",
       "      <td>...</td>\n",
       "      <td>...</td>\n",
       "      <td>...</td>\n",
       "      <td>...</td>\n",
       "      <td>...</td>\n",
       "      <td>...</td>\n",
       "      <td>...</td>\n",
       "    </tr>\n",
       "    <tr>\n",
       "      <td>206204</td>\n",
       "      <td>206205</td>\n",
       "      <td>16.666667</td>\n",
       "      <td>30.0</td>\n",
       "      <td>10.0</td>\n",
       "      <td>4.0</td>\n",
       "      <td>20.750000</td>\n",
       "      <td>4.0</td>\n",
       "    </tr>\n",
       "    <tr>\n",
       "      <td>206205</td>\n",
       "      <td>206206</td>\n",
       "      <td>3.716418</td>\n",
       "      <td>15.0</td>\n",
       "      <td>0.0</td>\n",
       "      <td>68.0</td>\n",
       "      <td>8.507463</td>\n",
       "      <td>40.0</td>\n",
       "    </tr>\n",
       "    <tr>\n",
       "      <td>206206</td>\n",
       "      <td>206207</td>\n",
       "      <td>14.312500</td>\n",
       "      <td>30.0</td>\n",
       "      <td>1.0</td>\n",
       "      <td>17.0</td>\n",
       "      <td>27.875000</td>\n",
       "      <td>16.0</td>\n",
       "    </tr>\n",
       "    <tr>\n",
       "      <td>206207</td>\n",
       "      <td>206208</td>\n",
       "      <td>7.367347</td>\n",
       "      <td>20.0</td>\n",
       "      <td>0.0</td>\n",
       "      <td>50.0</td>\n",
       "      <td>27.632653</td>\n",
       "      <td>49.0</td>\n",
       "    </tr>\n",
       "    <tr>\n",
       "      <td>206208</td>\n",
       "      <td>206209</td>\n",
       "      <td>18.461538</td>\n",
       "      <td>30.0</td>\n",
       "      <td>3.0</td>\n",
       "      <td>14.0</td>\n",
       "      <td>19.000000</td>\n",
       "      <td>9.0</td>\n",
       "    </tr>\n",
       "  </tbody>\n",
       "</table>\n",
       "<p>206209 rows × 7 columns</p>\n",
       "</div>"
      ],
      "text/plain": [
       "        user_id  av_days_btw_orders  max_days_btw_orders  min_days_btw_orders  \\\n",
       "0             1           19.000000                 30.0                  0.0   \n",
       "1             2           16.285714                 30.0                  3.0   \n",
       "2             3           12.000000                 21.0                  7.0   \n",
       "3             4           17.000000                 30.0                  0.0   \n",
       "4             5           11.500000                 19.0                  6.0   \n",
       "...         ...                 ...                  ...                  ...   \n",
       "206204   206205           16.666667                 30.0                 10.0   \n",
       "206205   206206            3.716418                 15.0                  0.0   \n",
       "206206   206207           14.312500                 30.0                  1.0   \n",
       "206207   206208            7.367347                 20.0                  0.0   \n",
       "206208   206209           18.461538                 30.0                  3.0   \n",
       "\n",
       "        total_orders  average_basket_size  organic_basket_count  \n",
       "0               11.0            11.727273                  11.0  \n",
       "1               15.0            28.066667                  15.0  \n",
       "2               13.0            14.666667                  11.0  \n",
       "3                6.0             7.200000                   1.0  \n",
       "4                5.0            16.600000                   5.0  \n",
       "...              ...                  ...                   ...  \n",
       "206204           4.0            20.750000                   4.0  \n",
       "206205          68.0             8.507463                  40.0  \n",
       "206206          17.0            27.875000                  16.0  \n",
       "206207          50.0            27.632653                  49.0  \n",
       "206208          14.0            19.000000                   9.0  \n",
       "\n",
       "[206209 rows x 7 columns]"
      ]
     },
     "execution_count": 90,
     "metadata": {},
     "output_type": "execute_result"
    }
   ],
   "source": [
    "user_summaries"
   ]
  },
  {
   "cell_type": "code",
   "execution_count": 29,
   "metadata": {},
   "outputs": [],
   "source": [
    "user_summaries=user_summaries.merge(get_organic_order_counts_df, on = \"user_id\", how =\"left\")"
   ]
  },
  {
   "cell_type": "code",
   "execution_count": 30,
   "metadata": {},
   "outputs": [],
   "source": [
    "user_summaries['perc_organic_orders'] = user_summaries.organic_basket_count/user_summaries.total_orders"
   ]
  },
  {
   "cell_type": "code",
   "execution_count": 32,
   "metadata": {},
   "outputs": [
    {
     "data": {
      "text/html": [
       "<div>\n",
       "<style scoped>\n",
       "    .dataframe tbody tr th:only-of-type {\n",
       "        vertical-align: middle;\n",
       "    }\n",
       "\n",
       "    .dataframe tbody tr th {\n",
       "        vertical-align: top;\n",
       "    }\n",
       "\n",
       "    .dataframe thead th {\n",
       "        text-align: right;\n",
       "    }\n",
       "</style>\n",
       "<table border=\"1\" class=\"dataframe\">\n",
       "  <thead>\n",
       "    <tr style=\"text-align: right;\">\n",
       "      <th></th>\n",
       "      <th>user_id</th>\n",
       "      <th>av_days_btw_orders</th>\n",
       "      <th>max_days_btw_orders</th>\n",
       "      <th>min_days_btw_orders</th>\n",
       "      <th>total_orders</th>\n",
       "      <th>average_basket_size</th>\n",
       "      <th>organic_basket_count</th>\n",
       "      <th>perc_organic_orders</th>\n",
       "    </tr>\n",
       "  </thead>\n",
       "  <tbody>\n",
       "    <tr>\n",
       "      <td>0</td>\n",
       "      <td>1</td>\n",
       "      <td>19.000000</td>\n",
       "      <td>30.0</td>\n",
       "      <td>0.0</td>\n",
       "      <td>11.0</td>\n",
       "      <td>6.363636</td>\n",
       "      <td>11.0</td>\n",
       "      <td>1.000000</td>\n",
       "    </tr>\n",
       "    <tr>\n",
       "      <td>1</td>\n",
       "      <td>2</td>\n",
       "      <td>16.285714</td>\n",
       "      <td>30.0</td>\n",
       "      <td>3.0</td>\n",
       "      <td>15.0</td>\n",
       "      <td>15.066667</td>\n",
       "      <td>15.0</td>\n",
       "      <td>1.000000</td>\n",
       "    </tr>\n",
       "    <tr>\n",
       "      <td>2</td>\n",
       "      <td>3</td>\n",
       "      <td>12.000000</td>\n",
       "      <td>21.0</td>\n",
       "      <td>7.0</td>\n",
       "      <td>13.0</td>\n",
       "      <td>7.333333</td>\n",
       "      <td>11.0</td>\n",
       "      <td>0.846154</td>\n",
       "    </tr>\n",
       "    <tr>\n",
       "      <td>3</td>\n",
       "      <td>4</td>\n",
       "      <td>17.000000</td>\n",
       "      <td>30.0</td>\n",
       "      <td>0.0</td>\n",
       "      <td>6.0</td>\n",
       "      <td>3.600000</td>\n",
       "      <td>1.0</td>\n",
       "      <td>0.166667</td>\n",
       "    </tr>\n",
       "    <tr>\n",
       "      <td>4</td>\n",
       "      <td>5</td>\n",
       "      <td>11.500000</td>\n",
       "      <td>19.0</td>\n",
       "      <td>6.0</td>\n",
       "      <td>5.0</td>\n",
       "      <td>9.200000</td>\n",
       "      <td>5.0</td>\n",
       "      <td>1.000000</td>\n",
       "    </tr>\n",
       "    <tr>\n",
       "      <td>...</td>\n",
       "      <td>...</td>\n",
       "      <td>...</td>\n",
       "      <td>...</td>\n",
       "      <td>...</td>\n",
       "      <td>...</td>\n",
       "      <td>...</td>\n",
       "      <td>...</td>\n",
       "      <td>...</td>\n",
       "    </tr>\n",
       "    <tr>\n",
       "      <td>206204</td>\n",
       "      <td>206205</td>\n",
       "      <td>16.666667</td>\n",
       "      <td>30.0</td>\n",
       "      <td>10.0</td>\n",
       "      <td>4.0</td>\n",
       "      <td>12.750000</td>\n",
       "      <td>4.0</td>\n",
       "      <td>1.000000</td>\n",
       "    </tr>\n",
       "    <tr>\n",
       "      <td>206205</td>\n",
       "      <td>206206</td>\n",
       "      <td>3.716418</td>\n",
       "      <td>15.0</td>\n",
       "      <td>0.0</td>\n",
       "      <td>68.0</td>\n",
       "      <td>4.253731</td>\n",
       "      <td>40.0</td>\n",
       "      <td>0.588235</td>\n",
       "    </tr>\n",
       "    <tr>\n",
       "      <td>206206</td>\n",
       "      <td>206207</td>\n",
       "      <td>14.312500</td>\n",
       "      <td>30.0</td>\n",
       "      <td>1.0</td>\n",
       "      <td>17.0</td>\n",
       "      <td>13.937500</td>\n",
       "      <td>16.0</td>\n",
       "      <td>0.941176</td>\n",
       "    </tr>\n",
       "    <tr>\n",
       "      <td>206207</td>\n",
       "      <td>206208</td>\n",
       "      <td>7.367347</td>\n",
       "      <td>20.0</td>\n",
       "      <td>0.0</td>\n",
       "      <td>50.0</td>\n",
       "      <td>13.816327</td>\n",
       "      <td>49.0</td>\n",
       "      <td>0.980000</td>\n",
       "    </tr>\n",
       "    <tr>\n",
       "      <td>206208</td>\n",
       "      <td>206209</td>\n",
       "      <td>18.461538</td>\n",
       "      <td>30.0</td>\n",
       "      <td>3.0</td>\n",
       "      <td>14.0</td>\n",
       "      <td>9.785714</td>\n",
       "      <td>9.0</td>\n",
       "      <td>0.642857</td>\n",
       "    </tr>\n",
       "  </tbody>\n",
       "</table>\n",
       "<p>206209 rows × 8 columns</p>\n",
       "</div>"
      ],
      "text/plain": [
       "        user_id  av_days_btw_orders  max_days_btw_orders  min_days_btw_orders  \\\n",
       "0             1           19.000000                 30.0                  0.0   \n",
       "1             2           16.285714                 30.0                  3.0   \n",
       "2             3           12.000000                 21.0                  7.0   \n",
       "3             4           17.000000                 30.0                  0.0   \n",
       "4             5           11.500000                 19.0                  6.0   \n",
       "...         ...                 ...                  ...                  ...   \n",
       "206204   206205           16.666667                 30.0                 10.0   \n",
       "206205   206206            3.716418                 15.0                  0.0   \n",
       "206206   206207           14.312500                 30.0                  1.0   \n",
       "206207   206208            7.367347                 20.0                  0.0   \n",
       "206208   206209           18.461538                 30.0                  3.0   \n",
       "\n",
       "        total_orders  average_basket_size  organic_basket_count  \\\n",
       "0               11.0             6.363636                  11.0   \n",
       "1               15.0            15.066667                  15.0   \n",
       "2               13.0             7.333333                  11.0   \n",
       "3                6.0             3.600000                   1.0   \n",
       "4                5.0             9.200000                   5.0   \n",
       "...              ...                  ...                   ...   \n",
       "206204           4.0            12.750000                   4.0   \n",
       "206205          68.0             4.253731                  40.0   \n",
       "206206          17.0            13.937500                  16.0   \n",
       "206207          50.0            13.816327                  49.0   \n",
       "206208          14.0             9.785714                   9.0   \n",
       "\n",
       "        perc_organic_orders  \n",
       "0                  1.000000  \n",
       "1                  1.000000  \n",
       "2                  0.846154  \n",
       "3                  0.166667  \n",
       "4                  1.000000  \n",
       "...                     ...  \n",
       "206204             1.000000  \n",
       "206205             0.588235  \n",
       "206206             0.941176  \n",
       "206207             0.980000  \n",
       "206208             0.642857  \n",
       "\n",
       "[206209 rows x 8 columns]"
      ]
     },
     "execution_count": 32,
     "metadata": {},
     "output_type": "execute_result"
    }
   ],
   "source": [
    "user_summaries"
   ]
  },
  {
   "cell_type": "code",
   "execution_count": 31,
   "metadata": {},
   "outputs": [],
   "source": [
    "user_summaries = user_summaries.merge(org_desc_df, on = \"user_id\", how =\"left\")"
   ]
  },
  {
   "cell_type": "code",
   "execution_count": 32,
   "metadata": {},
   "outputs": [
    {
     "data": {
      "text/html": [
       "<div>\n",
       "<style scoped>\n",
       "    .dataframe tbody tr th:only-of-type {\n",
       "        vertical-align: middle;\n",
       "    }\n",
       "\n",
       "    .dataframe tbody tr th {\n",
       "        vertical-align: top;\n",
       "    }\n",
       "\n",
       "    .dataframe thead th {\n",
       "        text-align: right;\n",
       "    }\n",
       "</style>\n",
       "<table border=\"1\" class=\"dataframe\">\n",
       "  <thead>\n",
       "    <tr style=\"text-align: right;\">\n",
       "      <th></th>\n",
       "      <th>user_id</th>\n",
       "      <th>av_days_btw_orders</th>\n",
       "      <th>max_days_btw_orders</th>\n",
       "      <th>min_days_btw_orders</th>\n",
       "      <th>total_orders</th>\n",
       "      <th>average_basket_size</th>\n",
       "      <th>organic_basket_count</th>\n",
       "      <th>perc_organic_orders</th>\n",
       "      <th>org_mean_percent</th>\n",
       "      <th>org_min_percent</th>\n",
       "      <th>org_max_percent</th>\n",
       "    </tr>\n",
       "  </thead>\n",
       "  <tbody>\n",
       "    <tr>\n",
       "      <td>0</td>\n",
       "      <td>1</td>\n",
       "      <td>19.000000</td>\n",
       "      <td>30.0</td>\n",
       "      <td>0.0</td>\n",
       "      <td>11.0</td>\n",
       "      <td>6.363636</td>\n",
       "      <td>11.0</td>\n",
       "      <td>1.000000</td>\n",
       "      <td>0.250298</td>\n",
       "      <td>0.166667</td>\n",
       "      <td>0.375000</td>\n",
       "    </tr>\n",
       "    <tr>\n",
       "      <td>1</td>\n",
       "      <td>2</td>\n",
       "      <td>16.285714</td>\n",
       "      <td>30.0</td>\n",
       "      <td>3.0</td>\n",
       "      <td>15.0</td>\n",
       "      <td>15.066667</td>\n",
       "      <td>15.0</td>\n",
       "      <td>1.000000</td>\n",
       "      <td>0.255468</td>\n",
       "      <td>0.076923</td>\n",
       "      <td>0.400000</td>\n",
       "    </tr>\n",
       "    <tr>\n",
       "      <td>2</td>\n",
       "      <td>3</td>\n",
       "      <td>12.000000</td>\n",
       "      <td>21.0</td>\n",
       "      <td>7.0</td>\n",
       "      <td>13.0</td>\n",
       "      <td>7.333333</td>\n",
       "      <td>11.0</td>\n",
       "      <td>0.846154</td>\n",
       "      <td>0.339499</td>\n",
       "      <td>0.000000</td>\n",
       "      <td>0.600000</td>\n",
       "    </tr>\n",
       "    <tr>\n",
       "      <td>3</td>\n",
       "      <td>4</td>\n",
       "      <td>17.000000</td>\n",
       "      <td>30.0</td>\n",
       "      <td>0.0</td>\n",
       "      <td>6.0</td>\n",
       "      <td>3.600000</td>\n",
       "      <td>1.0</td>\n",
       "      <td>0.166667</td>\n",
       "      <td>0.057143</td>\n",
       "      <td>0.000000</td>\n",
       "      <td>0.285714</td>\n",
       "    </tr>\n",
       "    <tr>\n",
       "      <td>4</td>\n",
       "      <td>5</td>\n",
       "      <td>11.500000</td>\n",
       "      <td>19.0</td>\n",
       "      <td>6.0</td>\n",
       "      <td>5.0</td>\n",
       "      <td>9.200000</td>\n",
       "      <td>5.0</td>\n",
       "      <td>1.000000</td>\n",
       "      <td>0.485051</td>\n",
       "      <td>0.333333</td>\n",
       "      <td>0.636364</td>\n",
       "    </tr>\n",
       "    <tr>\n",
       "      <td>...</td>\n",
       "      <td>...</td>\n",
       "      <td>...</td>\n",
       "      <td>...</td>\n",
       "      <td>...</td>\n",
       "      <td>...</td>\n",
       "      <td>...</td>\n",
       "      <td>...</td>\n",
       "      <td>...</td>\n",
       "      <td>...</td>\n",
       "      <td>...</td>\n",
       "      <td>...</td>\n",
       "    </tr>\n",
       "    <tr>\n",
       "      <td>206204</td>\n",
       "      <td>206205</td>\n",
       "      <td>16.666667</td>\n",
       "      <td>30.0</td>\n",
       "      <td>10.0</td>\n",
       "      <td>4.0</td>\n",
       "      <td>12.750000</td>\n",
       "      <td>4.0</td>\n",
       "      <td>1.000000</td>\n",
       "      <td>0.430106</td>\n",
       "      <td>0.352941</td>\n",
       "      <td>0.571429</td>\n",
       "    </tr>\n",
       "    <tr>\n",
       "      <td>206205</td>\n",
       "      <td>206206</td>\n",
       "      <td>3.716418</td>\n",
       "      <td>15.0</td>\n",
       "      <td>0.0</td>\n",
       "      <td>68.0</td>\n",
       "      <td>4.253731</td>\n",
       "      <td>40.0</td>\n",
       "      <td>0.588235</td>\n",
       "      <td>0.228968</td>\n",
       "      <td>0.000000</td>\n",
       "      <td>0.916667</td>\n",
       "    </tr>\n",
       "    <tr>\n",
       "      <td>206206</td>\n",
       "      <td>206207</td>\n",
       "      <td>14.312500</td>\n",
       "      <td>30.0</td>\n",
       "      <td>1.0</td>\n",
       "      <td>17.0</td>\n",
       "      <td>13.937500</td>\n",
       "      <td>16.0</td>\n",
       "      <td>0.941176</td>\n",
       "      <td>0.528823</td>\n",
       "      <td>0.333333</td>\n",
       "      <td>0.750000</td>\n",
       "    </tr>\n",
       "    <tr>\n",
       "      <td>206207</td>\n",
       "      <td>206208</td>\n",
       "      <td>7.367347</td>\n",
       "      <td>20.0</td>\n",
       "      <td>0.0</td>\n",
       "      <td>50.0</td>\n",
       "      <td>13.816327</td>\n",
       "      <td>49.0</td>\n",
       "      <td>0.980000</td>\n",
       "      <td>0.430539</td>\n",
       "      <td>0.090909</td>\n",
       "      <td>0.750000</td>\n",
       "    </tr>\n",
       "    <tr>\n",
       "      <td>206208</td>\n",
       "      <td>206209</td>\n",
       "      <td>18.461538</td>\n",
       "      <td>30.0</td>\n",
       "      <td>3.0</td>\n",
       "      <td>14.0</td>\n",
       "      <td>9.785714</td>\n",
       "      <td>9.0</td>\n",
       "      <td>0.642857</td>\n",
       "      <td>0.104243</td>\n",
       "      <td>0.000000</td>\n",
       "      <td>0.333333</td>\n",
       "    </tr>\n",
       "  </tbody>\n",
       "</table>\n",
       "<p>206209 rows × 11 columns</p>\n",
       "</div>"
      ],
      "text/plain": [
       "        user_id  av_days_btw_orders  max_days_btw_orders  min_days_btw_orders  \\\n",
       "0             1           19.000000                 30.0                  0.0   \n",
       "1             2           16.285714                 30.0                  3.0   \n",
       "2             3           12.000000                 21.0                  7.0   \n",
       "3             4           17.000000                 30.0                  0.0   \n",
       "4             5           11.500000                 19.0                  6.0   \n",
       "...         ...                 ...                  ...                  ...   \n",
       "206204   206205           16.666667                 30.0                 10.0   \n",
       "206205   206206            3.716418                 15.0                  0.0   \n",
       "206206   206207           14.312500                 30.0                  1.0   \n",
       "206207   206208            7.367347                 20.0                  0.0   \n",
       "206208   206209           18.461538                 30.0                  3.0   \n",
       "\n",
       "        total_orders  average_basket_size  organic_basket_count  \\\n",
       "0               11.0             6.363636                  11.0   \n",
       "1               15.0            15.066667                  15.0   \n",
       "2               13.0             7.333333                  11.0   \n",
       "3                6.0             3.600000                   1.0   \n",
       "4                5.0             9.200000                   5.0   \n",
       "...              ...                  ...                   ...   \n",
       "206204           4.0            12.750000                   4.0   \n",
       "206205          68.0             4.253731                  40.0   \n",
       "206206          17.0            13.937500                  16.0   \n",
       "206207          50.0            13.816327                  49.0   \n",
       "206208          14.0             9.785714                   9.0   \n",
       "\n",
       "        perc_organic_orders  org_mean_percent  org_min_percent  \\\n",
       "0                  1.000000          0.250298         0.166667   \n",
       "1                  1.000000          0.255468         0.076923   \n",
       "2                  0.846154          0.339499         0.000000   \n",
       "3                  0.166667          0.057143         0.000000   \n",
       "4                  1.000000          0.485051         0.333333   \n",
       "...                     ...               ...              ...   \n",
       "206204             1.000000          0.430106         0.352941   \n",
       "206205             0.588235          0.228968         0.000000   \n",
       "206206             0.941176          0.528823         0.333333   \n",
       "206207             0.980000          0.430539         0.090909   \n",
       "206208             0.642857          0.104243         0.000000   \n",
       "\n",
       "        org_max_percent  \n",
       "0              0.375000  \n",
       "1              0.400000  \n",
       "2              0.600000  \n",
       "3              0.285714  \n",
       "4              0.636364  \n",
       "...                 ...  \n",
       "206204         0.571429  \n",
       "206205         0.916667  \n",
       "206206         0.750000  \n",
       "206207         0.750000  \n",
       "206208         0.333333  \n",
       "\n",
       "[206209 rows x 11 columns]"
      ]
     },
     "execution_count": 32,
     "metadata": {},
     "output_type": "execute_result"
    }
   ],
   "source": [
    "user_summaries"
   ]
  },
  {
   "cell_type": "code",
   "execution_count": null,
   "metadata": {},
   "outputs": [],
   "source": []
  },
  {
   "cell_type": "code",
   "execution_count": null,
   "metadata": {},
   "outputs": [],
   "source": []
  },
  {
   "cell_type": "code",
   "execution_count": null,
   "metadata": {},
   "outputs": [],
   "source": []
  },
  {
   "cell_type": "code",
   "execution_count": null,
   "metadata": {},
   "outputs": [],
   "source": []
  },
  {
   "cell_type": "code",
   "execution_count": 33,
   "metadata": {},
   "outputs": [],
   "source": [
    "def user_trends(pattern):\n",
    "\n",
    "    dem_orders = full_order_data.groupby([\"order_id\"])[pattern].sum()\n",
    "\n",
    "    # make it a nicer dataframe\n",
    "    dem_orders_df = dem_orders.to_frame()\n",
    "    dem_orders_df.columns = ['{}_items'.format(pattern)]\n",
    "    dem_orders_df.reset_index(inplace=True)\n",
    "\n",
    "    get_dem_product_counts = order_user_key.merge(dem_orders_df, on=\"order_id\", how = 'left')\n",
    "\n",
    "    # Prepare for aggregating\n",
    "\n",
    "    # merge count of organic items onto count of items in basket at all\n",
    "    dem_product_dem = order_size_df.merge(get_dem_product_counts, on = \"order_id\", how ='left')\n",
    "    # sort values of DF by user_id and order_id for readability\n",
    "    dem_product_dem.sort_values(by=['user_id',\"order_id\"], inplace=True)\n",
    "    \n",
    "    print(dem_product_dem.columns)\n",
    "\n",
    "    # create new variable \"percent\" of basket that is organic\n",
    "    dem_product_dem[\"percent\"] = dem_product_dem.iloc[:,-1:]/organic_product_dems.basket_size\n",
    "\n",
    "    mean_dem= dem_product_dem.groupby('user_id')['percent'].mean()\n",
    "    mean_dem.name = \"mean_percent\"\n",
    "\n",
    "    min_dem = dem_product_dem.groupby('user_id')['percent'].min()\n",
    "    min_dem.name = \"min_percent\"\n",
    "\n",
    "    max_dem = dem_product_dem.groupby('user_id')['percent'].max()\n",
    "    max_dem.name = \"max_percent\"\n",
    "\n",
    "    dem_desc_dict = {mean_org.name:mean_org, min_org.name:min_org, max_org.name:max_org}\n",
    "    dem_desc_df = pd.DataFrame(org_desc_dict)\n",
    "    dem_desc_df.reset_index(inplace=True)\n",
    "    \n",
    "    return dem_desc_df"
   ]
  },
  {
   "cell_type": "code",
   "execution_count": null,
   "metadata": {},
   "outputs": [
    {
     "name": "stdout",
     "output_type": "stream",
     "text": [
      "Index(['order_id', 'basket_size', 'user_id', 'reordered_items'], dtype='object')\n"
     ]
    }
   ],
   "source": [
    "user_trends('reordered')"
   ]
  },
  {
   "cell_type": "code",
   "execution_count": null,
   "metadata": {},
   "outputs": [],
   "source": []
  }
 ],
 "metadata": {
  "kernelspec": {
   "display_name": "Python 3",
   "language": "python",
   "name": "python3"
  },
  "language_info": {
   "codemirror_mode": {
    "name": "ipython",
    "version": 3
   },
   "file_extension": ".py",
   "mimetype": "text/x-python",
   "name": "python",
   "nbconvert_exporter": "python",
   "pygments_lexer": "ipython3",
   "version": "3.7.4"
  }
 },
 "nbformat": 4,
 "nbformat_minor": 4
}
